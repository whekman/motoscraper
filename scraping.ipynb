{
 "cells": [
  {
   "cell_type": "code",
   "execution_count": 1,
   "id": "09078aa3",
   "metadata": {},
   "outputs": [],
   "source": [
    "#pip install beautifulsoup4"
   ]
  },
  {
   "cell_type": "code",
   "execution_count": 2,
   "id": "fc8e69fa-c399-4ea0-ba53-46ec4eadf579",
   "metadata": {},
   "outputs": [],
   "source": [
    "#pip install selenium"
   ]
  },
  {
   "cell_type": "code",
   "execution_count": 3,
   "id": "faa41168",
   "metadata": {},
   "outputs": [],
   "source": [
    "import time \n",
    "import pandas as pd \n",
    "from selenium import webdriver \n",
    "from selenium.webdriver import Chrome \n",
    "from selenium.webdriver.common.by import By \n",
    "\n",
    "from bs4 import BeautifulSoup as bs"
   ]
  },
  {
   "cell_type": "code",
   "execution_count": 4,
   "id": "c995d12d-702c-4b71-9c8f-f8057deb6728",
   "metadata": {},
   "outputs": [],
   "source": [
    "# Define the Chrome webdriver options\n",
    "options = webdriver.ChromeOptions() \n",
    "options.add_argument('--headless')"
   ]
  },
  {
   "cell_type": "code",
   "execution_count": 5,
   "id": "98ee2e36-d9c8-4235-bd2f-3747cdc6abcd",
   "metadata": {},
   "outputs": [],
   "source": [
    "# By default, Selenium waits for all resources to download before taking actions.\n",
    "# However, we don't need it as the page is populated with dynamically generated JavaScript code.\n",
    "options.page_load_strategy = \"none\"\n",
    "options.add_argument(\"--disable-dev-shm-usage\")\n",
    "options.add_argument(\"--no-sandbox\")\n",
    "#options.add_argument(\"--headless\")  # Old headless Chrome\n",
    "# OR:\n",
    "options.add_argument(\"--headless=new\")  # New headless Chrome"
   ]
  },
  {
   "cell_type": "code",
   "execution_count": 6,
   "id": "15ead977-06eb-4414-9478-9bd9bc83eb80",
   "metadata": {},
   "outputs": [],
   "source": [
    "# Pass the defined options objects to initialize the web driver \n",
    "driver = Chrome(options=options)"
   ]
  },
  {
   "cell_type": "code",
   "execution_count": 7,
   "id": "ecae8ac7-8e0d-44ad-b47b-80c6e6d90a64",
   "metadata": {},
   "outputs": [],
   "source": [
    "# Set an implicit wait of 5 seconds to allow time for elements to appear before throwing an exception\n",
    "driver.implicitly_wait(3)"
   ]
  },
  {
   "cell_type": "code",
   "execution_count": 8,
   "id": "187a3055-fd21-4628-81a4-7ac5b437ccbd",
   "metadata": {},
   "outputs": [],
   "source": [
    "def html_to_listings(html):\n",
    "    \n",
    "    soup = bs(html, \"html.parser\")\n",
    "    \n",
    "    ul = soup.find(\"ul\", class_=\"hz-Listings hz-Listings--list-view\")\n",
    "    \n",
    "    lis = ul.findAll(\"li\")\n",
    "    \n",
    "    ims = []\n",
    "    \n",
    "    listings = []\n",
    "    \n",
    "    verbose = False\n",
    "    \n",
    "    for li in lis:\n",
    "    \n",
    "        l = Listing()\n",
    "        \n",
    "        p = li.prettify()\n",
    "        \n",
    "        if verbose: print(p,'\\n')\n",
    "        \n",
    "        im = li.find(\"img\")\n",
    "    \n",
    "        title = li.find(\"h3\", class_ = \"hz-Listing-title\").text\n",
    "        price = li.find(\"p\", class_ = \"hz-Listing-price hz-Listing-price--mobile hz-text-price-label\").text\n",
    "        text = li.find(\"p\", class_ = \"hz-Listing-description\").text\n",
    "        date = li.find(\"span\", class_ =\"hz-Listing-date hz-Listing-date--desktop\").text\n",
    "    \n",
    "        mileage_div = li.find(\"div\", class_ = \"hz-Listing-attributes-nap-mileage\")\n",
    "        \n",
    "        if mileage_div:\n",
    "            mileage = mileage_div.find(\"span\", class_=\"hz-Attribute hz-Attribute--default\").text\n",
    "            l.mileage = mileage\n",
    "    \n",
    "        trust_div = li.find(\"div\", class_= \"hz-Listing-trust-items-and-attributes\")\n",
    "        \n",
    "        if trust_div:\n",
    "            try:\n",
    "                l.build_year = trust_div.find(\"span\", class_=\"hz-Attribute hz-Attribute--default\").text\n",
    "            except:\n",
    "                pass\n",
    "            \n",
    "        location_div = li.find(\"span\", class_ = \"hz-Listing-location\")\n",
    "        \n",
    "        if location_div:\n",
    "            location = location_div.find(\"span\", class_ = \"hz-Listing-distance-label\").text\n",
    "            l.location = location\n",
    "            \n",
    "        l.title = title\n",
    "        l.price = price\n",
    "        l.text = text\n",
    "        l.date = date\n",
    "        \n",
    "        if im:\n",
    "            try:\n",
    "                l.im_src = im.attrs['src']\n",
    "                l.im_alt = im.attrs['alt']\n",
    "                l.im_title = im.attrs['title']\n",
    "            except NameError as e:\n",
    "                print(\"NameError:\", e)\n",
    "                pass\n",
    "            except KeyError as e:\n",
    "                print(\"KeyError:\", e)\n",
    "                pass\n",
    "                \n",
    "        listings.append(l)\n",
    "\n",
    "\n",
    "    return listings"
   ]
  },
  {
   "cell_type": "code",
   "execution_count": 9,
   "id": "47f3f136-01b1-4b05-8116-3dda99b530e8",
   "metadata": {},
   "outputs": [],
   "source": [
    "class Listing:\n",
    "\n",
    "    def __init__(self):\n",
    "        \n",
    "        self.title = None\n",
    "        self.price = None\n",
    "        \n",
    "        self.im_src = None\n",
    "        self.im_alt = None\n",
    "        self.im_title = None\n",
    "\n",
    "    def _to_dict(self):\n",
    "        return {x: self.__getattribute__(x) for x in dir(self) if not x.startswith('_')}\n",
    "\n",
    "    def __repr__(self):\n",
    "\n",
    "        lines = []\n",
    "        \n",
    "        attrs = [x for x in dir(self) if not x.startswith('_')]\n",
    "        for attr in attrs:\n",
    "            \n",
    "            val = self.__getattribute__(attr)\n",
    "            \n",
    "            if val:\n",
    "                lines.append(\"{:8.8}: {:20.20}...\".format(attr, val))\n",
    "\n",
    "        return '\\n'.join(lines)"
   ]
  },
  {
   "cell_type": "code",
   "execution_count": 18,
   "id": "f6705875",
   "metadata": {},
   "outputs": [],
   "source": [
    "\n",
    "url = \"https://www.marktplaats.nl/l/motoren/motoren-yamaha/#q:mt-07%7CsearchInTitleAndDescription:true\" \n",
    "\n",
    "urls = []\n",
    "\n",
    "for i in range(8):\n",
    "    url = \"https://www.marktplaats.nl/l/motoren/motoren-yamaha/p/{:}/#q:mt-07|searchInTitleAndDescription:true\".format(i)\n",
    "    urls.append(url)\n",
    "    "
   ]
  },
  {
   "cell_type": "code",
   "execution_count": 19,
   "id": "46c72f6e-fca1-4b42-9c04-666b0fa8d967",
   "metadata": {},
   "outputs": [],
   "source": [
    "from time import localtime, strftime\n",
    "ts = strftime(\"%Y-%m-%d %H:%M:%S\", localtime())\n"
   ]
  },
  {
   "cell_type": "code",
   "execution_count": 20,
   "id": "a422cf87-7858-44e6-88d0-293436c9647b",
   "metadata": {},
   "outputs": [
    {
     "data": {
      "text/plain": [
       "'2024-02-28 11:52:40'"
      ]
     },
     "execution_count": 20,
     "metadata": {},
     "output_type": "execute_result"
    }
   ],
   "source": [
    "ts"
   ]
  },
  {
   "cell_type": "code",
   "execution_count": 21,
   "id": "90baf824-f7d5-4604-b6b7-fc7d8e10f56d",
   "metadata": {},
   "outputs": [
    {
     "data": {
      "text/plain": [
       "['https://www.marktplaats.nl/l/motoren/motoren-yamaha/p/0/#q:mt-07|searchInTitleAndDescription:true',\n",
       " 'https://www.marktplaats.nl/l/motoren/motoren-yamaha/p/1/#q:mt-07|searchInTitleAndDescription:true',\n",
       " 'https://www.marktplaats.nl/l/motoren/motoren-yamaha/p/2/#q:mt-07|searchInTitleAndDescription:true',\n",
       " 'https://www.marktplaats.nl/l/motoren/motoren-yamaha/p/3/#q:mt-07|searchInTitleAndDescription:true',\n",
       " 'https://www.marktplaats.nl/l/motoren/motoren-yamaha/p/4/#q:mt-07|searchInTitleAndDescription:true',\n",
       " 'https://www.marktplaats.nl/l/motoren/motoren-yamaha/p/5/#q:mt-07|searchInTitleAndDescription:true',\n",
       " 'https://www.marktplaats.nl/l/motoren/motoren-yamaha/p/6/#q:mt-07|searchInTitleAndDescription:true',\n",
       " 'https://www.marktplaats.nl/l/motoren/motoren-yamaha/p/7/#q:mt-07|searchInTitleAndDescription:true']"
      ]
     },
     "execution_count": 21,
     "metadata": {},
     "output_type": "execute_result"
    }
   ],
   "source": [
    "urls"
   ]
  },
  {
   "cell_type": "code",
   "execution_count": 22,
   "id": "8cfcd76b-f929-4f96-910d-7e9b00752fb2",
   "metadata": {},
   "outputs": [
    {
     "name": "stdout",
     "output_type": "stream",
     "text": [
      "0 https://www.marktplaats.nl/l/motoren/motoren-yamaha/p/0/#q:mt-07|searchInTitleAndDescription:true\n",
      "1 https://www.marktplaats.nl/l/motoren/motoren-yamaha/p/1/#q:mt-07|searchInTitleAndDescription:true\n",
      "2 https://www.marktplaats.nl/l/motoren/motoren-yamaha/p/2/#q:mt-07|searchInTitleAndDescription:true\n",
      "3 https://www.marktplaats.nl/l/motoren/motoren-yamaha/p/3/#q:mt-07|searchInTitleAndDescription:true\n",
      "4 https://www.marktplaats.nl/l/motoren/motoren-yamaha/p/4/#q:mt-07|searchInTitleAndDescription:true\n",
      "5 https://www.marktplaats.nl/l/motoren/motoren-yamaha/p/5/#q:mt-07|searchInTitleAndDescription:true\n",
      "6 https://www.marktplaats.nl/l/motoren/motoren-yamaha/p/6/#q:mt-07|searchInTitleAndDescription:true\n",
      "KeyError: 'title'\n",
      "KeyError: 'title'\n",
      "7 https://www.marktplaats.nl/l/motoren/motoren-yamaha/p/7/#q:mt-07|searchInTitleAndDescription:true\n"
     ]
    }
   ],
   "source": [
    "listings_per_page = {}\n",
    "\n",
    "for i, url in enumerate(urls):\n",
    "\n",
    "    print(i, url)\n",
    "    \n",
    "    driver.get(url) \n",
    "    time.sleep(5)\n",
    "    html = driver.page_source\n",
    "\n",
    "    more_listings = html_to_listings(html)\n",
    "\n",
    "    listings_per_page[i] = more_listings\n",
    "    "
   ]
  },
  {
   "cell_type": "code",
   "execution_count": 23,
   "id": "8c0dc258",
   "metadata": {},
   "outputs": [],
   "source": [
    "listings = []\n",
    "for page in listings_per_page:\n",
    "    listings += listings_per_page[page]\n",
    "    "
   ]
  },
  {
   "cell_type": "code",
   "execution_count": 24,
   "id": "62019378-aba3-4dda-8ca6-595f817d92ea",
   "metadata": {},
   "outputs": [
    {
     "data": {
      "text/plain": [
       "187"
      ]
     },
     "execution_count": 24,
     "metadata": {},
     "output_type": "execute_result"
    }
   ],
   "source": [
    "len(listings)"
   ]
  },
  {
   "cell_type": "code",
   "execution_count": 25,
   "id": "a87bc3d0-95bf-46ba-a7e3-f94601b1f87c",
   "metadata": {},
   "outputs": [],
   "source": [
    "l = listings[0]"
   ]
  },
  {
   "cell_type": "code",
   "execution_count": 26,
   "id": "51fbcbba-7028-49d4-aa29-d3405295e861",
   "metadata": {},
   "outputs": [
    {
     "data": {
      "text/plain": [
       "build_ye: 2024                ...\n",
       "date    : 22 feb. '24         ...\n",
       "im_alt  : Yamaha MT-07 ABS GRA...\n",
       "im_src  : https://images.markt...\n",
       "im_title: Yamaha MT-07 ABS GRA...\n",
       "location: Amsterdam           ...\n",
       "price   : € 8.999,-           ...\n",
       "text    : Bouwjaar: 2024. Acti...\n",
       "title   : Yamaha MT-07 ABS GRA..."
      ]
     },
     "execution_count": 26,
     "metadata": {},
     "output_type": "execute_result"
    }
   ],
   "source": [
    "l"
   ]
  },
  {
   "cell_type": "code",
   "execution_count": 28,
   "id": "f743d46c-a759-4106-a5c4-d022024de763",
   "metadata": {},
   "outputs": [],
   "source": [
    "df = pd.DataFrame.from_dict([l._to_dict() for l in listings])"
   ]
  },
  {
   "cell_type": "code",
   "execution_count": 29,
   "id": "320c20cd-8ee5-41e2-bb97-49297280dfae",
   "metadata": {},
   "outputs": [],
   "source": [
    "df.to_csv(\"scrape-results_mt-07-{:}.csv\".format(ts))"
   ]
  },
  {
   "cell_type": "code",
   "execution_count": 30,
   "id": "c2d1ebbd-8e0d-420a-833b-953fb98a6766",
   "metadata": {},
   "outputs": [
    {
     "data": {
      "text/html": [
       "<div>\n",
       "<style scoped>\n",
       "    .dataframe tbody tr th:only-of-type {\n",
       "        vertical-align: middle;\n",
       "    }\n",
       "\n",
       "    .dataframe tbody tr th {\n",
       "        vertical-align: top;\n",
       "    }\n",
       "\n",
       "    .dataframe thead th {\n",
       "        text-align: right;\n",
       "    }\n",
       "</style>\n",
       "<table border=\"1\" class=\"dataframe\">\n",
       "  <thead>\n",
       "    <tr style=\"text-align: right;\">\n",
       "      <th></th>\n",
       "      <th>build_year</th>\n",
       "      <th>date</th>\n",
       "      <th>im_alt</th>\n",
       "      <th>im_src</th>\n",
       "      <th>im_title</th>\n",
       "      <th>location</th>\n",
       "      <th>price</th>\n",
       "      <th>text</th>\n",
       "      <th>title</th>\n",
       "      <th>mileage</th>\n",
       "    </tr>\n",
       "  </thead>\n",
       "  <tbody>\n",
       "    <tr>\n",
       "      <th>0</th>\n",
       "      <td>2024</td>\n",
       "      <td>22 feb. '24</td>\n",
       "      <td>Yamaha MT-07 ABS GRATIS QUICKSHIFTER! (bj 2024...</td>\n",
       "      <td>https://images.marktplaats.com/api/v1/listing-...</td>\n",
       "      <td>Yamaha MT-07 ABS GRATIS QUICKSHIFTER! (bj 2024...</td>\n",
       "      <td>Amsterdam</td>\n",
       "      <td>€ 8.999,-</td>\n",
       "      <td>Bouwjaar: 2024. Actie!! Bestel nu jouw nieuwe ...</td>\n",
       "      <td>Yamaha MT-07 ABS GRATIS QUICKSHIFTER! (bj 2024)</td>\n",
       "      <td>NaN</td>\n",
       "    </tr>\n",
       "    <tr>\n",
       "      <th>1</th>\n",
       "      <td>2024</td>\n",
       "      <td>6 feb. '24</td>\n",
       "      <td>Yamaha MT-07 ABS (bj 2024), Motoren, Motoren |...</td>\n",
       "      <td>https://images.marktplaats.com/api/v1/listing-...</td>\n",
       "      <td>Yamaha MT-07 ABS (bj 2024), Motoren, Motoren |...</td>\n",
       "      <td>Rogat</td>\n",
       "      <td>€ 8.999,-</td>\n",
       "      <td>Bouwjaar: 2024. Actie!! Bij aanschaf van een n...</td>\n",
       "      <td>Yamaha MT-07 ABS (bj 2024)</td>\n",
       "      <td>NaN</td>\n",
       "    </tr>\n",
       "    <tr>\n",
       "      <th>2</th>\n",
       "      <td>2024</td>\n",
       "      <td>9 feb. '24</td>\n",
       "      <td>Yamaha MT-07 35KW NU MET GRATIS QUICKSHIFTER !...</td>\n",
       "      <td>https://images.marktplaats.com/api/v1/listing-...</td>\n",
       "      <td>Yamaha MT-07 35KW NU MET GRATIS QUICKSHIFTER !...</td>\n",
       "      <td>Amsterdam</td>\n",
       "      <td>€ 8.999,-</td>\n",
       "      <td>Bouwjaar: 2024. Actie!! Bestel nu jouw nieuwe ...</td>\n",
       "      <td>Yamaha MT-07 35KW NU MET GRATIS QUICKSHIFTER !...</td>\n",
       "      <td>NaN</td>\n",
       "    </tr>\n",
       "    <tr>\n",
       "      <th>3</th>\n",
       "      <td>2024</td>\n",
       "      <td>9 feb. '24</td>\n",
       "      <td>Yamaha MT-07 35KW NU MET GRATIS QUICKSHIFTER !...</td>\n",
       "      <td>https://images.marktplaats.com/api/v1/listing-...</td>\n",
       "      <td>Yamaha MT-07 35KW NU MET GRATIS QUICKSHIFTER !...</td>\n",
       "      <td>Amsterdam</td>\n",
       "      <td>€ 8.999,-</td>\n",
       "      <td>Bouwjaar: 2024. Actie!! Bestel nu jouw nieuwe ...</td>\n",
       "      <td>Yamaha MT-07 35KW NU MET GRATIS QUICKSHIFTER !...</td>\n",
       "      <td>NaN</td>\n",
       "    </tr>\n",
       "    <tr>\n",
       "      <th>4</th>\n",
       "      <td>2024</td>\n",
       "      <td>9 feb. '24</td>\n",
       "      <td>Yamaha MT-07 35KW NU MET GRATIS QUICKSHIFTER !...</td>\n",
       "      <td>https://images.marktplaats.com/api/v1/listing-...</td>\n",
       "      <td>Yamaha MT-07 35KW NU MET GRATIS QUICKSHIFTER !...</td>\n",
       "      <td>Amsterdam</td>\n",
       "      <td>€ 8.999,-</td>\n",
       "      <td>Bouwjaar: 2024. Actie!! Bestel nu jouw nieuwe ...</td>\n",
       "      <td>Yamaha MT-07 35KW NU MET GRATIS QUICKSHIFTER !...</td>\n",
       "      <td>NaN</td>\n",
       "    </tr>\n",
       "    <tr>\n",
       "      <th>...</th>\n",
       "      <td>...</td>\n",
       "      <td>...</td>\n",
       "      <td>...</td>\n",
       "      <td>...</td>\n",
       "      <td>...</td>\n",
       "      <td>...</td>\n",
       "      <td>...</td>\n",
       "      <td>...</td>\n",
       "      <td>...</td>\n",
       "      <td>...</td>\n",
       "    </tr>\n",
       "    <tr>\n",
       "      <th>182</th>\n",
       "      <td>2021</td>\n",
       "      <td>17 feb. '24</td>\n",
       "      <td>YAMAHA MT 07 - 2021 - Nardo - ABS, Motoren, Mo...</td>\n",
       "      <td>https://images.marktplaats.com/api/v1/listing-...</td>\n",
       "      <td>YAMAHA MT 07 - 2021 - Nardo - ABS, Motoren, Mo...</td>\n",
       "      <td>Venray</td>\n",
       "      <td>Gereserveerd</td>\n",
       "      <td>Aangeboden door leigraaf motoren: een zéér net...</td>\n",
       "      <td>YAMAHA MT 07 - 2021 - Nardo - ABS</td>\n",
       "      <td>3.035 km</td>\n",
       "    </tr>\n",
       "    <tr>\n",
       "      <th>183</th>\n",
       "      <td>2022</td>\n",
       "      <td>25 feb. '24</td>\n",
       "      <td>YAMAHA MT 07 ABS - 2022 - 35KW - A2 - Garantie...</td>\n",
       "      <td>https://images.marktplaats.com/api/v1/listing-...</td>\n",
       "      <td>YAMAHA MT 07 ABS - 2022 - 35KW - A2 - Garantie...</td>\n",
       "      <td>Venray</td>\n",
       "      <td>Gereserveerd</td>\n",
       "      <td>Aangeboden door leigraaf motoren: een zéér net...</td>\n",
       "      <td>YAMAHA MT 07 ABS - 2022 - 35KW - A2 - Garantie...</td>\n",
       "      <td>3.300 km</td>\n",
       "    </tr>\n",
       "    <tr>\n",
       "      <th>184</th>\n",
       "      <td>2023</td>\n",
       "      <td>31 jan. '24</td>\n",
       "      <td>YAMAHA MT 07 - 2023 - TFT scherm - A2/35kw, Mo...</td>\n",
       "      <td>https://images.marktplaats.com/api/v1/listing-...</td>\n",
       "      <td>YAMAHA MT 07 - 2023 - TFT scherm - A2/35kw, Mo...</td>\n",
       "      <td>Venray</td>\n",
       "      <td>Gereserveerd</td>\n",
       "      <td>Aangeboden door leigraaf motoren: een zéér net...</td>\n",
       "      <td>YAMAHA MT 07 - 2023 - TFT scherm - A2/35kw</td>\n",
       "      <td>1.400 km</td>\n",
       "    </tr>\n",
       "    <tr>\n",
       "      <th>185</th>\n",
       "      <td>2014</td>\n",
       "      <td>8 feb. '24</td>\n",
       "      <td>Yamaha MT 07 MT07 Abs: Uniek, Leovince, , Led,...</td>\n",
       "      <td>https://images.marktplaats.com/api/v1/listing-...</td>\n",
       "      <td>Yamaha MT 07 MT07 Abs: Uniek, Leovince, , Led,...</td>\n",
       "      <td>Middenbeemster</td>\n",
       "      <td>Gereserveerd</td>\n",
       "      <td>Te koop aangeboden: zeer nette en unieke yamah...</td>\n",
       "      <td>Yamaha MT 07 MT07 Abs: Uniek, Leovince, , Led,...</td>\n",
       "      <td>31.779 km</td>\n",
       "    </tr>\n",
       "    <tr>\n",
       "      <th>186</th>\n",
       "      <td>2023</td>\n",
       "      <td>31 jan. '24</td>\n",
       "      <td>YAMAHA MT 07 - 2023 - Garantie - Tft scherm, M...</td>\n",
       "      <td>https://images.marktplaats.com/api/v1/listing-...</td>\n",
       "      <td>YAMAHA MT 07 - 2023 - Garantie - Tft scherm, M...</td>\n",
       "      <td>Venray</td>\n",
       "      <td>Gereserveerd</td>\n",
       "      <td>Aangeboden door leigraaf motoren: een zéér net...</td>\n",
       "      <td>YAMAHA MT 07 - 2023 - Garantie - Tft scherm</td>\n",
       "      <td>2.500 km</td>\n",
       "    </tr>\n",
       "  </tbody>\n",
       "</table>\n",
       "<p>187 rows × 10 columns</p>\n",
       "</div>"
      ],
      "text/plain": [
       "    build_year         date  \\\n",
       "0        2024   22 feb. '24   \n",
       "1        2024    6 feb. '24   \n",
       "2        2024    9 feb. '24   \n",
       "3        2024    9 feb. '24   \n",
       "4        2024    9 feb. '24   \n",
       "..         ...          ...   \n",
       "182      2021   17 feb. '24   \n",
       "183      2022   25 feb. '24   \n",
       "184      2023   31 jan. '24   \n",
       "185      2014    8 feb. '24   \n",
       "186      2023   31 jan. '24   \n",
       "\n",
       "                                                im_alt  \\\n",
       "0    Yamaha MT-07 ABS GRATIS QUICKSHIFTER! (bj 2024...   \n",
       "1    Yamaha MT-07 ABS (bj 2024), Motoren, Motoren |...   \n",
       "2    Yamaha MT-07 35KW NU MET GRATIS QUICKSHIFTER !...   \n",
       "3    Yamaha MT-07 35KW NU MET GRATIS QUICKSHIFTER !...   \n",
       "4    Yamaha MT-07 35KW NU MET GRATIS QUICKSHIFTER !...   \n",
       "..                                                 ...   \n",
       "182  YAMAHA MT 07 - 2021 - Nardo - ABS, Motoren, Mo...   \n",
       "183  YAMAHA MT 07 ABS - 2022 - 35KW - A2 - Garantie...   \n",
       "184  YAMAHA MT 07 - 2023 - TFT scherm - A2/35kw, Mo...   \n",
       "185  Yamaha MT 07 MT07 Abs: Uniek, Leovince, , Led,...   \n",
       "186  YAMAHA MT 07 - 2023 - Garantie - Tft scherm, M...   \n",
       "\n",
       "                                                im_src  \\\n",
       "0    https://images.marktplaats.com/api/v1/listing-...   \n",
       "1    https://images.marktplaats.com/api/v1/listing-...   \n",
       "2    https://images.marktplaats.com/api/v1/listing-...   \n",
       "3    https://images.marktplaats.com/api/v1/listing-...   \n",
       "4    https://images.marktplaats.com/api/v1/listing-...   \n",
       "..                                                 ...   \n",
       "182  https://images.marktplaats.com/api/v1/listing-...   \n",
       "183  https://images.marktplaats.com/api/v1/listing-...   \n",
       "184  https://images.marktplaats.com/api/v1/listing-...   \n",
       "185  https://images.marktplaats.com/api/v1/listing-...   \n",
       "186  https://images.marktplaats.com/api/v1/listing-...   \n",
       "\n",
       "                                              im_title        location  \\\n",
       "0    Yamaha MT-07 ABS GRATIS QUICKSHIFTER! (bj 2024...       Amsterdam   \n",
       "1    Yamaha MT-07 ABS (bj 2024), Motoren, Motoren |...           Rogat   \n",
       "2    Yamaha MT-07 35KW NU MET GRATIS QUICKSHIFTER !...       Amsterdam   \n",
       "3    Yamaha MT-07 35KW NU MET GRATIS QUICKSHIFTER !...       Amsterdam   \n",
       "4    Yamaha MT-07 35KW NU MET GRATIS QUICKSHIFTER !...       Amsterdam   \n",
       "..                                                 ...             ...   \n",
       "182  YAMAHA MT 07 - 2021 - Nardo - ABS, Motoren, Mo...          Venray   \n",
       "183  YAMAHA MT 07 ABS - 2022 - 35KW - A2 - Garantie...          Venray   \n",
       "184  YAMAHA MT 07 - 2023 - TFT scherm - A2/35kw, Mo...          Venray   \n",
       "185  Yamaha MT 07 MT07 Abs: Uniek, Leovince, , Led,...  Middenbeemster   \n",
       "186  YAMAHA MT 07 - 2023 - Garantie - Tft scherm, M...          Venray   \n",
       "\n",
       "            price                                               text  \\\n",
       "0       € 8.999,-  Bouwjaar: 2024. Actie!! Bestel nu jouw nieuwe ...   \n",
       "1       € 8.999,-  Bouwjaar: 2024. Actie!! Bij aanschaf van een n...   \n",
       "2       € 8.999,-  Bouwjaar: 2024. Actie!! Bestel nu jouw nieuwe ...   \n",
       "3       € 8.999,-  Bouwjaar: 2024. Actie!! Bestel nu jouw nieuwe ...   \n",
       "4       € 8.999,-  Bouwjaar: 2024. Actie!! Bestel nu jouw nieuwe ...   \n",
       "..            ...                                                ...   \n",
       "182  Gereserveerd  Aangeboden door leigraaf motoren: een zéér net...   \n",
       "183  Gereserveerd  Aangeboden door leigraaf motoren: een zéér net...   \n",
       "184  Gereserveerd  Aangeboden door leigraaf motoren: een zéér net...   \n",
       "185  Gereserveerd  Te koop aangeboden: zeer nette en unieke yamah...   \n",
       "186  Gereserveerd  Aangeboden door leigraaf motoren: een zéér net...   \n",
       "\n",
       "                                                 title    mileage  \n",
       "0      Yamaha MT-07 ABS GRATIS QUICKSHIFTER! (bj 2024)        NaN  \n",
       "1                           Yamaha MT-07 ABS (bj 2024)        NaN  \n",
       "2    Yamaha MT-07 35KW NU MET GRATIS QUICKSHIFTER !...        NaN  \n",
       "3    Yamaha MT-07 35KW NU MET GRATIS QUICKSHIFTER !...        NaN  \n",
       "4    Yamaha MT-07 35KW NU MET GRATIS QUICKSHIFTER !...        NaN  \n",
       "..                                                 ...        ...  \n",
       "182                  YAMAHA MT 07 - 2021 - Nardo - ABS   3.035 km  \n",
       "183  YAMAHA MT 07 ABS - 2022 - 35KW - A2 - Garantie...   3.300 km  \n",
       "184         YAMAHA MT 07 - 2023 - TFT scherm - A2/35kw   1.400 km  \n",
       "185  Yamaha MT 07 MT07 Abs: Uniek, Leovince, , Led,...  31.779 km  \n",
       "186        YAMAHA MT 07 - 2023 - Garantie - Tft scherm   2.500 km  \n",
       "\n",
       "[187 rows x 10 columns]"
      ]
     },
     "execution_count": 30,
     "metadata": {},
     "output_type": "execute_result"
    }
   ],
   "source": [
    "df"
   ]
  },
  {
   "cell_type": "code",
   "execution_count": null,
   "id": "89e93b34-5e8b-437d-8d81-cff63ee47f5c",
   "metadata": {},
   "outputs": [],
   "source": []
  },
  {
   "cell_type": "code",
   "execution_count": null,
   "id": "61e89b4c-1d6e-440c-a3ff-da399d967cda",
   "metadata": {},
   "outputs": [],
   "source": []
  }
 ],
 "metadata": {
  "kernelspec": {
   "display_name": "Python 3 (ipykernel)",
   "language": "python",
   "name": "python3"
  },
  "language_info": {
   "codemirror_mode": {
    "name": "ipython",
    "version": 3
   },
   "file_extension": ".py",
   "mimetype": "text/x-python",
   "name": "python",
   "nbconvert_exporter": "python",
   "pygments_lexer": "ipython3",
   "version": "3.10.12"
  }
 },
 "nbformat": 4,
 "nbformat_minor": 5
}
