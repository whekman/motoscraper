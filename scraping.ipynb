{
 "cells": [
  {
   "cell_type": "code",
   "execution_count": 1,
   "id": "09078aa3",
   "metadata": {},
   "outputs": [],
   "source": [
    "#pip install beautifulsoup4"
   ]
  },
  {
   "cell_type": "code",
   "execution_count": 2,
   "id": "fc8e69fa-c399-4ea0-ba53-46ec4eadf579",
   "metadata": {},
   "outputs": [],
   "source": [
    "#pip install selenium"
   ]
  },
  {
   "cell_type": "code",
   "execution_count": 3,
   "id": "faa41168",
   "metadata": {},
   "outputs": [],
   "source": [
    "import time \n",
    "import pandas as pd \n",
    "from selenium import webdriver \n",
    "from selenium.webdriver import Chrome \n",
    "from selenium.webdriver.common.by import By \n",
    "\n",
    "from bs4 import BeautifulSoup as bs"
   ]
  },
  {
   "cell_type": "code",
   "execution_count": 4,
   "id": "c995d12d-702c-4b71-9c8f-f8057deb6728",
   "metadata": {},
   "outputs": [],
   "source": [
    "# Define the Chrome webdriver options\n",
    "options = webdriver.ChromeOptions() \n",
    "options.add_argument('--headless')"
   ]
  },
  {
   "cell_type": "code",
   "execution_count": 5,
   "id": "98ee2e36-d9c8-4235-bd2f-3747cdc6abcd",
   "metadata": {},
   "outputs": [],
   "source": [
    "# By default, Selenium waits for all resources to download before taking actions.\n",
    "# However, we don't need it as the page is populated with dynamically generated JavaScript code.\n",
    "options.page_load_strategy = \"none\"\n",
    "options.add_argument(\"--disable-dev-shm-usage\")\n",
    "options.add_argument(\"--no-sandbox\")\n",
    "#options.add_argument(\"--headless\")  # Old headless Chrome\n",
    "# OR:\n",
    "options.add_argument(\"--headless=new\")  # New headless Chrome"
   ]
  },
  {
   "cell_type": "code",
   "execution_count": 6,
   "id": "15ead977-06eb-4414-9478-9bd9bc83eb80",
   "metadata": {},
   "outputs": [],
   "source": [
    "# Pass the defined options objects to initialize the web driver \n",
    "driver = Chrome(options=options)"
   ]
  },
  {
   "cell_type": "code",
   "execution_count": 7,
   "id": "ecae8ac7-8e0d-44ad-b47b-80c6e6d90a64",
   "metadata": {},
   "outputs": [],
   "source": [
    "# Set an implicit wait of 5 seconds to allow time for elements to appear before throwing an exception\n",
    "driver.implicitly_wait(3)"
   ]
  },
  {
   "cell_type": "code",
   "execution_count": 20,
   "id": "187a3055-fd21-4628-81a4-7ac5b437ccbd",
   "metadata": {},
   "outputs": [],
   "source": [
    "def html_to_listings(html):\n",
    "    \n",
    "    soup = bs(html, \"html.parser\")\n",
    "    \n",
    "    ul = soup.find(\"ul\", class_=\"hz-Listings hz-Listings--list-view\")\n",
    "    \n",
    "    lis = ul.findAll(\"li\")\n",
    "    \n",
    "    ims = []\n",
    "    \n",
    "    listings = []\n",
    "    \n",
    "    verbose = False\n",
    "    \n",
    "    for li in lis:\n",
    "    \n",
    "        l = Listing()\n",
    "        \n",
    "        p = li.prettify()\n",
    "        \n",
    "        if verbose: print(p,'\\n')\n",
    "        \n",
    "        im = li.find(\"img\")\n",
    "    \n",
    "        title = li.find(\"h3\", class_ = \"hz-Listing-title\").text\n",
    "        price = li.find(\"p\", class_ = \"hz-Listing-price hz-Listing-price--mobile hz-text-price-label\").text\n",
    "        text = li.find(\"p\", class_ = \"hz-Listing-description\").text\n",
    "        date = li.find(\"span\", class_ =\"hz-Listing-date hz-Listing-date--desktop\").text\n",
    "    \n",
    "        mileage_div = li.find(\"div\", class_ = \"hz-Listing-attributes-nap-mileage\")\n",
    "        \n",
    "        if mileage_div:\n",
    "            mileage = mileage_div.find(\"span\", class_=\"hz-Attribute hz-Attribute--default\").text\n",
    "            l.mileage = mileage\n",
    "    \n",
    "        trust_div = li.find(\"div\", class_= \"hz-Listing-trust-items-and-attributes\")\n",
    "        \n",
    "        if trust_div:\n",
    "            try:\n",
    "                l.build_year = trust_div.find(\"span\", class_=\"hz-Attribute hz-Attribute--default\").text\n",
    "            except:\n",
    "                pass\n",
    "            \n",
    "        location_div = li.find(\"span\", class_ = \"hz-Listing-location\")\n",
    "        \n",
    "        if location_div:\n",
    "            location = location_div.find(\"span\", class_ = \"hz-Listing-distance-label\").text\n",
    "            l.location = location\n",
    "            \n",
    "        l.title = title\n",
    "        l.price = price\n",
    "        l.text = text\n",
    "        l.date = date\n",
    "        \n",
    "        if im:\n",
    "            try:\n",
    "                l.im_src = im.attrs['src']\n",
    "                l.im_alt = im.attrs['alt']\n",
    "                l.im_title = im.attrs['title']\n",
    "            except NameError as e:\n",
    "                print(\"NameError:\", e)\n",
    "                pass\n",
    "            except KeyError as e:\n",
    "                print(\"KeyError:\", e)\n",
    "                pass\n",
    "                \n",
    "        listings.append(l)\n",
    "\n",
    "\n",
    "    return listings"
   ]
  },
  {
   "cell_type": "code",
   "execution_count": 21,
   "id": "47f3f136-01b1-4b05-8116-3dda99b530e8",
   "metadata": {},
   "outputs": [],
   "source": [
    "class Listing:\n",
    "\n",
    "    def __init__(self):\n",
    "        \n",
    "        self.title = None\n",
    "        self.price = None\n",
    "        \n",
    "        self.im_src = None\n",
    "        self.im_alt = None\n",
    "        self.im_title = None\n",
    "\n",
    "    def _to_dict(self):\n",
    "        return {x: self.__getattribute__(x) for x in dir(self) if not x.startswith('_')}\n",
    "\n",
    "    def __repr__(self):\n",
    "\n",
    "        lines = []\n",
    "        \n",
    "        attrs = [x for x in dir(self) if not x.startswith('_')]\n",
    "        for attr in attrs:\n",
    "            \n",
    "            val = self.__getattribute__(attr)\n",
    "            \n",
    "            if val:\n",
    "                lines.append(\"{:8.8}: {:20.20}...\".format(attr, val))\n",
    "\n",
    "        return '\\n'.join(lines)"
   ]
  },
  {
   "cell_type": "code",
   "execution_count": 22,
   "id": "f6705875",
   "metadata": {},
   "outputs": [],
   "source": [
    "\n",
    "url = \"https://www.marktplaats.nl/l/motoren/motoren-yamaha/#q:mt-07%7CsearchInTitleAndDescription:true\" \n",
    "\n",
    "urls = []\n",
    "\n",
    "for i in range(8):\n",
    "    url = \"https://www.marktplaats.nl/l/motoren/motoren-yamaha/p/{:}/#q:mt-07|searchInTitleAndDescription:true\".format(i)\n",
    "    urls.append(url)\n",
    "    "
   ]
  },
  {
   "cell_type": "code",
   "execution_count": 23,
   "id": "90baf824-f7d5-4604-b6b7-fc7d8e10f56d",
   "metadata": {},
   "outputs": [
    {
     "data": {
      "text/plain": [
       "['https://www.marktplaats.nl/l/motoren/motoren-yamaha/p/0/#q:mt-07|searchInTitleAndDescription:true',\n",
       " 'https://www.marktplaats.nl/l/motoren/motoren-yamaha/p/1/#q:mt-07|searchInTitleAndDescription:true',\n",
       " 'https://www.marktplaats.nl/l/motoren/motoren-yamaha/p/2/#q:mt-07|searchInTitleAndDescription:true',\n",
       " 'https://www.marktplaats.nl/l/motoren/motoren-yamaha/p/3/#q:mt-07|searchInTitleAndDescription:true',\n",
       " 'https://www.marktplaats.nl/l/motoren/motoren-yamaha/p/4/#q:mt-07|searchInTitleAndDescription:true',\n",
       " 'https://www.marktplaats.nl/l/motoren/motoren-yamaha/p/5/#q:mt-07|searchInTitleAndDescription:true',\n",
       " 'https://www.marktplaats.nl/l/motoren/motoren-yamaha/p/6/#q:mt-07|searchInTitleAndDescription:true',\n",
       " 'https://www.marktplaats.nl/l/motoren/motoren-yamaha/p/7/#q:mt-07|searchInTitleAndDescription:true']"
      ]
     },
     "execution_count": 23,
     "metadata": {},
     "output_type": "execute_result"
    }
   ],
   "source": [
    "urls"
   ]
  },
  {
   "cell_type": "code",
   "execution_count": 24,
   "id": "8cfcd76b-f929-4f96-910d-7e9b00752fb2",
   "metadata": {},
   "outputs": [
    {
     "name": "stdout",
     "output_type": "stream",
     "text": [
      "0 https://www.marktplaats.nl/l/motoren/motoren-yamaha/p/0/#q:mt-07|searchInTitleAndDescription:true\n",
      "1 https://www.marktplaats.nl/l/motoren/motoren-yamaha/p/1/#q:mt-07|searchInTitleAndDescription:true\n",
      "2 https://www.marktplaats.nl/l/motoren/motoren-yamaha/p/2/#q:mt-07|searchInTitleAndDescription:true\n",
      "3 https://www.marktplaats.nl/l/motoren/motoren-yamaha/p/3/#q:mt-07|searchInTitleAndDescription:true\n",
      "4 https://www.marktplaats.nl/l/motoren/motoren-yamaha/p/4/#q:mt-07|searchInTitleAndDescription:true\n",
      "5 https://www.marktplaats.nl/l/motoren/motoren-yamaha/p/5/#q:mt-07|searchInTitleAndDescription:true\n",
      "6 https://www.marktplaats.nl/l/motoren/motoren-yamaha/p/6/#q:mt-07|searchInTitleAndDescription:true\n",
      "KeyError: 'title'\n",
      "7 https://www.marktplaats.nl/l/motoren/motoren-yamaha/p/7/#q:mt-07|searchInTitleAndDescription:true\n"
     ]
    }
   ],
   "source": [
    "listings_per_page = {}\n",
    "\n",
    "for i, url in enumerate(urls):\n",
    "\n",
    "    print(i, url)\n",
    "    \n",
    "    driver.get(url) \n",
    "    time.sleep(5)\n",
    "    html = driver.page_source\n",
    "\n",
    "    more_listings = html_to_listings(html)\n",
    "\n",
    "    listings_per_page[i] = more_listings\n",
    "    "
   ]
  },
  {
   "cell_type": "code",
   "execution_count": 25,
   "id": "8c0dc258",
   "metadata": {},
   "outputs": [],
   "source": [
    "listings = []\n",
    "for page in listings_per_page:\n",
    "    listings += listings_per_page[page]\n",
    "    "
   ]
  },
  {
   "cell_type": "code",
   "execution_count": 28,
   "id": "62019378-aba3-4dda-8ca6-595f817d92ea",
   "metadata": {},
   "outputs": [
    {
     "data": {
      "text/plain": [
       "219"
      ]
     },
     "execution_count": 28,
     "metadata": {},
     "output_type": "execute_result"
    }
   ],
   "source": [
    "len(listings)"
   ]
  },
  {
   "cell_type": "code",
   "execution_count": 29,
   "id": "a87bc3d0-95bf-46ba-a7e3-f94601b1f87c",
   "metadata": {},
   "outputs": [],
   "source": [
    "l = listings[0]"
   ]
  },
  {
   "cell_type": "code",
   "execution_count": 30,
   "id": "51fbcbba-7028-49d4-aa29-d3405295e861",
   "metadata": {},
   "outputs": [
    {
     "data": {
      "text/plain": [
       "build_ye: 2020                ...\n",
       "date    : Vandaag             ...\n",
       "im_alt  : YAMAHA MT-07 ABS (bj...\n",
       "im_src  : https://images.markt...\n",
       "im_title: YAMAHA MT-07 ABS (bj...\n",
       "location: Vlijmen             ...\n",
       "mileage : 9.349 km            ...\n",
       "price   : € 7.200,-           ...\n",
       "text    : Wij berekenen geen a...\n",
       "title   : YAMAHA MT-07 ABS (bj..."
      ]
     },
     "execution_count": 30,
     "metadata": {},
     "output_type": "execute_result"
    }
   ],
   "source": [
    "l"
   ]
  },
  {
   "cell_type": "code",
   "execution_count": 31,
   "id": "abb33629-c756-45af-9ef5-709b6dbba484",
   "metadata": {},
   "outputs": [
    {
     "data": {
      "text/plain": [
       "('Vandaag', '€\\xa07.200,-', '9.349 km', 'YAMAHA MT-07 ABS (bj 2020) ABS MT07')"
      ]
     },
     "execution_count": 31,
     "metadata": {},
     "output_type": "execute_result"
    }
   ],
   "source": [
    "l.date, l.price, l.mileage,l.title"
   ]
  },
  {
   "cell_type": "code",
   "execution_count": 32,
   "id": "b663e22d-73e0-4c09-b4e8-1158dae04813",
   "metadata": {},
   "outputs": [
    {
     "data": {
      "text/plain": [
       "219"
      ]
     },
     "execution_count": 32,
     "metadata": {},
     "output_type": "execute_result"
    }
   ],
   "source": [
    "len(listings)"
   ]
  },
  {
   "cell_type": "code",
   "execution_count": 33,
   "id": "f743d46c-a759-4106-a5c4-d022024de763",
   "metadata": {},
   "outputs": [],
   "source": [
    "df = pd.DataFrame.from_dict([l._to_dict() for l in listings])"
   ]
  },
  {
   "cell_type": "code",
   "execution_count": 34,
   "id": "0ac2dcef-9413-46cd-96a4-fe5c0b397bf8",
   "metadata": {},
   "outputs": [],
   "source": [
    "df.to_csv(\"scrape-results_mt-07.csv\")"
   ]
  },
  {
   "cell_type": "code",
   "execution_count": 35,
   "id": "c2d1ebbd-8e0d-420a-833b-953fb98a6766",
   "metadata": {},
   "outputs": [
    {
     "data": {
      "text/html": [
       "<div>\n",
       "<style scoped>\n",
       "    .dataframe tbody tr th:only-of-type {\n",
       "        vertical-align: middle;\n",
       "    }\n",
       "\n",
       "    .dataframe tbody tr th {\n",
       "        vertical-align: top;\n",
       "    }\n",
       "\n",
       "    .dataframe thead th {\n",
       "        text-align: right;\n",
       "    }\n",
       "</style>\n",
       "<table border=\"1\" class=\"dataframe\">\n",
       "  <thead>\n",
       "    <tr style=\"text-align: right;\">\n",
       "      <th></th>\n",
       "      <th>build_year</th>\n",
       "      <th>date</th>\n",
       "      <th>im_alt</th>\n",
       "      <th>im_src</th>\n",
       "      <th>im_title</th>\n",
       "      <th>location</th>\n",
       "      <th>mileage</th>\n",
       "      <th>price</th>\n",
       "      <th>text</th>\n",
       "      <th>title</th>\n",
       "    </tr>\n",
       "  </thead>\n",
       "  <tbody>\n",
       "    <tr>\n",
       "      <th>0</th>\n",
       "      <td>2020</td>\n",
       "      <td>Vandaag</td>\n",
       "      <td>YAMAHA MT-07 ABS (bj 2020) ABS MT07, Motoren, ...</td>\n",
       "      <td>https://images.marktplaats.com/api/v1/listing-...</td>\n",
       "      <td>YAMAHA MT-07 ABS (bj 2020) ABS MT07, Motoren, ...</td>\n",
       "      <td>Vlijmen</td>\n",
       "      <td>9.349 km</td>\n",
       "      <td>€ 7.200,-</td>\n",
       "      <td>Wij berekenen geen afleverkosten inruil is mog...</td>\n",
       "      <td>YAMAHA MT-07 ABS (bj 2020) ABS MT07</td>\n",
       "    </tr>\n",
       "    <tr>\n",
       "      <th>1</th>\n",
       "      <td>2014</td>\n",
       "      <td>9 feb. '24</td>\n",
       "      <td>Yamaha MT-07 2014, Motoren, Motoren | Yamaha, ...</td>\n",
       "      <td>https://images.marktplaats.com/api/v1/listing-...</td>\n",
       "      <td>Yamaha MT-07 2014, Motoren, Motoren | Yamaha, ...</td>\n",
       "      <td>Best</td>\n",
       "      <td>28.480 km</td>\n",
       "      <td>€ 5.650,-</td>\n",
       "      <td>Yamaha mt 07 04-07-2014 kmstand 28480 prachtig...</td>\n",
       "      <td>Yamaha MT-07 2014</td>\n",
       "    </tr>\n",
       "    <tr>\n",
       "      <th>2</th>\n",
       "      <td>2019</td>\n",
       "      <td>Vandaag</td>\n",
       "      <td>YAMAHA MT 07 ABS (bj 2019) MT07 35KW A2 Geschi...</td>\n",
       "      <td>https://images.marktplaats.com/api/v1/listing-...</td>\n",
       "      <td>YAMAHA MT 07 ABS (bj 2019) MT07 35KW A2 Geschi...</td>\n",
       "      <td>'s-Gravenzande</td>\n",
       "      <td>17.455 km</td>\n",
       "      <td>€ 6.945,-</td>\n",
       "      <td>De yamaha mt-07 is een naakte straatmotorfiets...</td>\n",
       "      <td>YAMAHA MT 07 ABS (bj 2019) MT07 35KW A2 Geschikt</td>\n",
       "    </tr>\n",
       "    <tr>\n",
       "      <th>3</th>\n",
       "      <td>2021</td>\n",
       "      <td>27 jan. '24</td>\n",
       "      <td>Yamaha MT-07 35kW/A2, Motoren, Motoren | Yamah...</td>\n",
       "      <td>https://images.marktplaats.com/api/v1/listing-...</td>\n",
       "      <td>Yamaha MT-07 35kW/A2, Motoren, Motoren | Yamah...</td>\n",
       "      <td>Breda</td>\n",
       "      <td>22.458 km</td>\n",
       "      <td>€ 8.000,-</td>\n",
       "      <td>Yamaha mt-07 35kw 2021 1e eigenaar 22.458 Km t...</td>\n",
       "      <td>Yamaha MT-07 35kW/A2</td>\n",
       "    </tr>\n",
       "    <tr>\n",
       "      <th>4</th>\n",
       "      <td>2017</td>\n",
       "      <td>8 feb. '24</td>\n",
       "      <td>YAMAHA MT-07 ABS, Motoren, Motoren | Yamaha, N...</td>\n",
       "      <td>https://images.marktplaats.com/api/v1/listing-...</td>\n",
       "      <td>YAMAHA MT-07 ABS, Motoren, Motoren | Yamaha, N...</td>\n",
       "      <td>Lekkerkerk</td>\n",
       "      <td>37.000 km</td>\n",
       "      <td>€ 5.800,-</td>\n",
       "      <td>Yamaha mt-07 abs 37.000Km gebruikt voor woon-/...</td>\n",
       "      <td>YAMAHA MT-07 ABS</td>\n",
       "    </tr>\n",
       "    <tr>\n",
       "      <th>...</th>\n",
       "      <td>...</td>\n",
       "      <td>...</td>\n",
       "      <td>...</td>\n",
       "      <td>...</td>\n",
       "      <td>...</td>\n",
       "      <td>...</td>\n",
       "      <td>...</td>\n",
       "      <td>...</td>\n",
       "      <td>...</td>\n",
       "      <td>...</td>\n",
       "    </tr>\n",
       "    <tr>\n",
       "      <th>214</th>\n",
       "      <td>2023</td>\n",
       "      <td>31 jan. '24</td>\n",
       "      <td>YAMAHA MT 07 - 2023 - Garantie - Tft scherm, M...</td>\n",
       "      <td>https://images.marktplaats.com/api/v1/listing-...</td>\n",
       "      <td>YAMAHA MT 07 - 2023 - Garantie - Tft scherm, M...</td>\n",
       "      <td>Venray</td>\n",
       "      <td>2.500 km</td>\n",
       "      <td>Gereserveerd</td>\n",
       "      <td>Aangeboden door leigraaf motoren: een zéér net...</td>\n",
       "      <td>YAMAHA MT 07 - 2023 - Garantie - Tft scherm</td>\n",
       "    </tr>\n",
       "    <tr>\n",
       "      <th>215</th>\n",
       "      <td>2015</td>\n",
       "      <td>28 jan. '24</td>\n",
       "      <td>Yamaha MT-07 ABS *MOTO CAGE* Leovince uitlaat ...</td>\n",
       "      <td>https://images.marktplaats.com/api/v1/listing-...</td>\n",
       "      <td>Yamaha MT-07 ABS *MOTO CAGE* Leovince uitlaat ...</td>\n",
       "      <td>Tilburg</td>\n",
       "      <td>18.100 km</td>\n",
       "      <td>Gereserveerd</td>\n",
       "      <td>Wil u altijd als eerste op de hoogte zijn van ...</td>\n",
       "      <td>Yamaha MT-07 ABS *MOTO CAGE* Leovince uitlaat ...</td>\n",
       "    </tr>\n",
       "    <tr>\n",
       "      <th>216</th>\n",
       "      <td>2023</td>\n",
       "      <td>28 jan. '24</td>\n",
       "      <td>YAMAHA MT 07 - 2023 - Quickshifter - A2 - Vol ...</td>\n",
       "      <td>https://images.marktplaats.com/api/v1/listing-...</td>\n",
       "      <td>YAMAHA MT 07 - 2023 - Quickshifter - A2 - Vol ...</td>\n",
       "      <td>Venray</td>\n",
       "      <td>4.985 km</td>\n",
       "      <td>Gereserveerd</td>\n",
       "      <td>Aangeboden door leigraaf motoren: een zéér net...</td>\n",
       "      <td>YAMAHA MT 07 - 2023 - Quickshifter - A2 - Vol ...</td>\n",
       "    </tr>\n",
       "    <tr>\n",
       "      <th>217</th>\n",
       "      <td>2019</td>\n",
       "      <td>18 jan. '24</td>\n",
       "      <td>YAMAHA MT 07 ABS - 2019 - Leovince - A2/35Kw, ...</td>\n",
       "      <td>https://images.marktplaats.com/api/v1/listing-...</td>\n",
       "      <td>YAMAHA MT 07 ABS - 2019 - Leovince - A2/35Kw, ...</td>\n",
       "      <td>Venray</td>\n",
       "      <td>6.905 km</td>\n",
       "      <td>Gereserveerd</td>\n",
       "      <td>Aangeboden door leigraaf motoren: een zéér net...</td>\n",
       "      <td>YAMAHA MT 07 ABS - 2019 - Leovince - A2/35Kw</td>\n",
       "    </tr>\n",
       "    <tr>\n",
       "      <th>218</th>\n",
       "      <td>2022</td>\n",
       "      <td>18 jan. '24</td>\n",
       "      <td>YAMAHA MT 07 ABS - 2022 - A2 - 35KW - Nieuwsta...</td>\n",
       "      <td>https://images.marktplaats.com/api/v1/listing-...</td>\n",
       "      <td>YAMAHA MT 07 ABS - 2022 - A2 - 35KW - Nieuwsta...</td>\n",
       "      <td>Venray</td>\n",
       "      <td>7.875 km</td>\n",
       "      <td>Gereserveerd</td>\n",
       "      <td>Aangeboden door leigraaf motoren: een zéér net...</td>\n",
       "      <td>YAMAHA MT 07 ABS - 2022 - A2 - 35KW - Nieuwstaat</td>\n",
       "    </tr>\n",
       "  </tbody>\n",
       "</table>\n",
       "<p>219 rows × 10 columns</p>\n",
       "</div>"
      ],
      "text/plain": [
       "    build_year         date  \\\n",
       "0        2020       Vandaag   \n",
       "1        2014    9 feb. '24   \n",
       "2        2019       Vandaag   \n",
       "3        2021   27 jan. '24   \n",
       "4        2017    8 feb. '24   \n",
       "..         ...          ...   \n",
       "214      2023   31 jan. '24   \n",
       "215      2015   28 jan. '24   \n",
       "216      2023   28 jan. '24   \n",
       "217      2019   18 jan. '24   \n",
       "218      2022   18 jan. '24   \n",
       "\n",
       "                                                im_alt  \\\n",
       "0    YAMAHA MT-07 ABS (bj 2020) ABS MT07, Motoren, ...   \n",
       "1    Yamaha MT-07 2014, Motoren, Motoren | Yamaha, ...   \n",
       "2    YAMAHA MT 07 ABS (bj 2019) MT07 35KW A2 Geschi...   \n",
       "3    Yamaha MT-07 35kW/A2, Motoren, Motoren | Yamah...   \n",
       "4    YAMAHA MT-07 ABS, Motoren, Motoren | Yamaha, N...   \n",
       "..                                                 ...   \n",
       "214  YAMAHA MT 07 - 2023 - Garantie - Tft scherm, M...   \n",
       "215  Yamaha MT-07 ABS *MOTO CAGE* Leovince uitlaat ...   \n",
       "216  YAMAHA MT 07 - 2023 - Quickshifter - A2 - Vol ...   \n",
       "217  YAMAHA MT 07 ABS - 2019 - Leovince - A2/35Kw, ...   \n",
       "218  YAMAHA MT 07 ABS - 2022 - A2 - 35KW - Nieuwsta...   \n",
       "\n",
       "                                                im_src  \\\n",
       "0    https://images.marktplaats.com/api/v1/listing-...   \n",
       "1    https://images.marktplaats.com/api/v1/listing-...   \n",
       "2    https://images.marktplaats.com/api/v1/listing-...   \n",
       "3    https://images.marktplaats.com/api/v1/listing-...   \n",
       "4    https://images.marktplaats.com/api/v1/listing-...   \n",
       "..                                                 ...   \n",
       "214  https://images.marktplaats.com/api/v1/listing-...   \n",
       "215  https://images.marktplaats.com/api/v1/listing-...   \n",
       "216  https://images.marktplaats.com/api/v1/listing-...   \n",
       "217  https://images.marktplaats.com/api/v1/listing-...   \n",
       "218  https://images.marktplaats.com/api/v1/listing-...   \n",
       "\n",
       "                                              im_title        location  \\\n",
       "0    YAMAHA MT-07 ABS (bj 2020) ABS MT07, Motoren, ...         Vlijmen   \n",
       "1    Yamaha MT-07 2014, Motoren, Motoren | Yamaha, ...            Best   \n",
       "2    YAMAHA MT 07 ABS (bj 2019) MT07 35KW A2 Geschi...  's-Gravenzande   \n",
       "3    Yamaha MT-07 35kW/A2, Motoren, Motoren | Yamah...           Breda   \n",
       "4    YAMAHA MT-07 ABS, Motoren, Motoren | Yamaha, N...      Lekkerkerk   \n",
       "..                                                 ...             ...   \n",
       "214  YAMAHA MT 07 - 2023 - Garantie - Tft scherm, M...          Venray   \n",
       "215  Yamaha MT-07 ABS *MOTO CAGE* Leovince uitlaat ...         Tilburg   \n",
       "216  YAMAHA MT 07 - 2023 - Quickshifter - A2 - Vol ...          Venray   \n",
       "217  YAMAHA MT 07 ABS - 2019 - Leovince - A2/35Kw, ...          Venray   \n",
       "218  YAMAHA MT 07 ABS - 2022 - A2 - 35KW - Nieuwsta...          Venray   \n",
       "\n",
       "       mileage         price  \\\n",
       "0     9.349 km     € 7.200,-   \n",
       "1    28.480 km     € 5.650,-   \n",
       "2    17.455 km     € 6.945,-   \n",
       "3    22.458 km     € 8.000,-   \n",
       "4    37.000 km     € 5.800,-   \n",
       "..         ...           ...   \n",
       "214   2.500 km  Gereserveerd   \n",
       "215  18.100 km  Gereserveerd   \n",
       "216   4.985 km  Gereserveerd   \n",
       "217   6.905 km  Gereserveerd   \n",
       "218   7.875 km  Gereserveerd   \n",
       "\n",
       "                                                  text  \\\n",
       "0    Wij berekenen geen afleverkosten inruil is mog...   \n",
       "1    Yamaha mt 07 04-07-2014 kmstand 28480 prachtig...   \n",
       "2    De yamaha mt-07 is een naakte straatmotorfiets...   \n",
       "3    Yamaha mt-07 35kw 2021 1e eigenaar 22.458 Km t...   \n",
       "4    Yamaha mt-07 abs 37.000Km gebruikt voor woon-/...   \n",
       "..                                                 ...   \n",
       "214  Aangeboden door leigraaf motoren: een zéér net...   \n",
       "215  Wil u altijd als eerste op de hoogte zijn van ...   \n",
       "216  Aangeboden door leigraaf motoren: een zéér net...   \n",
       "217  Aangeboden door leigraaf motoren: een zéér net...   \n",
       "218  Aangeboden door leigraaf motoren: een zéér net...   \n",
       "\n",
       "                                                 title  \n",
       "0                  YAMAHA MT-07 ABS (bj 2020) ABS MT07  \n",
       "1                                    Yamaha MT-07 2014  \n",
       "2     YAMAHA MT 07 ABS (bj 2019) MT07 35KW A2 Geschikt  \n",
       "3                                 Yamaha MT-07 35kW/A2  \n",
       "4                                     YAMAHA MT-07 ABS  \n",
       "..                                                 ...  \n",
       "214        YAMAHA MT 07 - 2023 - Garantie - Tft scherm  \n",
       "215  Yamaha MT-07 ABS *MOTO CAGE* Leovince uitlaat ...  \n",
       "216  YAMAHA MT 07 - 2023 - Quickshifter - A2 - Vol ...  \n",
       "217       YAMAHA MT 07 ABS - 2019 - Leovince - A2/35Kw  \n",
       "218   YAMAHA MT 07 ABS - 2022 - A2 - 35KW - Nieuwstaat  \n",
       "\n",
       "[219 rows x 10 columns]"
      ]
     },
     "execution_count": 35,
     "metadata": {},
     "output_type": "execute_result"
    }
   ],
   "source": [
    "df"
   ]
  },
  {
   "cell_type": "code",
   "execution_count": 180,
   "id": "57d156e5",
   "metadata": {},
   "outputs": [],
   "source": [
    "import matplotlib.pyplot as plt"
   ]
  },
  {
   "cell_type": "code",
   "execution_count": null,
   "id": "a1552b7c-d0c7-45b5-a172-42e26ac2a885",
   "metadata": {},
   "outputs": [],
   "source": []
  },
  {
   "cell_type": "code",
   "execution_count": 195,
   "id": "d6e4a4ee-16b9-486f-a11c-8e12183698cd",
   "metadata": {},
   "outputs": [
    {
     "data": {
      "image/png": "[encoded data removed]",
      "text/plain": [
       "<Figure size 800x400 with 2 Axes>"
      ]
     },
     "metadata": {},
     "output_type": "display_data"
    }
   ],
   "source": [
    "fig, axs = plt.subplots(1,2, figsize=(8,4))\n",
    "\n",
    "ax = axs[0]\n",
    "\n",
    "plt.suptitle('Yamaha MT-07')\n",
    "\n",
    "ax.scatter(ages, prices)\n",
    "ax.set_title('Price vs Age')\n",
    "ax.set_ylabel('Price (EUR)')\n",
    "ax.set_xlabel('Age (year)')\n",
    "\n",
    "ax = axs[1]\n",
    "ax.scatter(kms, prices)\n",
    "ax.set_title('Price vs Distance')\n",
    "ax.set_ylabel('Price (EUR)')\n",
    "ax.set_xlabel('Distance (km)')\n",
    "\n",
    "plt.tight_layout()\n",
    "plt.savefig('yamaha_mt_07.png')"
   ]
  },
  {
   "cell_type": "code",
   "execution_count": null,
   "id": "89e93b34-5e8b-437d-8d81-cff63ee47f5c",
   "metadata": {},
   "outputs": [],
   "source": []
  }
 ],
 "metadata": {
  "kernelspec": {
   "display_name": "Python 3 (ipykernel)",
   "language": "python",
   "name": "python3"
  },
  "language_info": {
   "codemirror_mode": {
    "name": "ipython",
    "version": 3
   },
   "file_extension": ".py",
   "mimetype": "text/x-python",
   "name": "python",
   "nbconvert_exporter": "python",
   "pygments_lexer": "ipython3",
   "version": "3.10.12"
  }
 },
 "nbformat": 4,
 "nbformat_minor": 5
}
