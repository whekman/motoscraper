{
 "cells": [
  {
   "cell_type": "code",
   "execution_count": 87,
   "id": "f737588c-1f82-4bdd-8ac9-8a0dd3f200ee",
   "metadata": {},
   "outputs": [],
   "source": [
    "import pandas as pd\n",
    "import os\n",
    "import matplotlib.pyplot as plt"
   ]
  },
  {
   "cell_type": "code",
   "execution_count": 88,
   "id": "baa386d6-0f26-4548-aaf4-2086b72cb3cd",
   "metadata": {},
   "outputs": [
    {
     "data": {
      "text/plain": [
       "['scrape-results_mt-07_16-02-2024.csv',\n",
       " 'marktplaats_mt07_scrape.html',\n",
       " 'README.md',\n",
       " 'styles.css',\n",
       " 'scrape_data.png',\n",
       " '.ipynb_checkpoints',\n",
       " 'to_html.ipynb',\n",
       " 'scrape-results_mt-07-1.csv',\n",
       " 'lines.txt',\n",
       " 'scraping.ipynb',\n",
       " 'yamaha_mt_07.png',\n",
       " 'table.html',\n",
       " '.gitignore',\n",
       " 'analytics.ipynb',\n",
       " '.git']"
      ]
     },
     "execution_count": 88,
     "metadata": {},
     "output_type": "execute_result"
    }
   ],
   "source": [
    "os.listdir()"
   ]
  },
  {
   "cell_type": "code",
   "execution_count": 103,
   "id": "8722d74f-e0f2-4f94-a025-970fcd25286b",
   "metadata": {},
   "outputs": [],
   "source": [
    "df = pd.read_csv('scrape-results_mt-07_16-02-2024.csv', index_col=[0])\n",
    "\n",
    "df['build_year'] = df['build_year'].fillna(0)\n",
    "df['build_year'] = df['build_year'].astype(int)\n",
    "\n",
    "df['price'] = df['price'].str.extract(r'([\\d]\\.[\\d][\\d][\\d])')\n",
    "df['price'] = df['price'].str.replace('.','')\n",
    "df['price'] = df['price'].fillna('0')\n",
    "df['price'] = df['price'].astype(int)\n",
    "\n",
    "df['mileage'] = df['mileage'].str.extract(r'([\\d]+.[\\d][\\d][\\d])')\n",
    "df['mileage'] = df['mileage'].str.replace('.','')\n",
    "df['mileage'] = df['mileage'].fillna('0')\n",
    "df['mileage'] = df['mileage'].astype(int)\n",
    "\n",
    "\n",
    "df['age'] = 2024-df['build_year']"
   ]
  },
  {
   "cell_type": "code",
   "execution_count": 104,
   "id": "e8359a44-4bdc-467f-8a13-6d0c75be764d",
   "metadata": {},
   "outputs": [
    {
     "data": {
      "text/html": [
       "<div>\n",
       "<style scoped>\n",
       "    .dataframe tbody tr th:only-of-type {\n",
       "        vertical-align: middle;\n",
       "    }\n",
       "\n",
       "    .dataframe tbody tr th {\n",
       "        vertical-align: top;\n",
       "    }\n",
       "\n",
       "    .dataframe thead th {\n",
       "        text-align: right;\n",
       "    }\n",
       "</style>\n",
       "<table border=\"1\" class=\"dataframe\">\n",
       "  <thead>\n",
       "    <tr style=\"text-align: right;\">\n",
       "      <th></th>\n",
       "      <th>build_year</th>\n",
       "      <th>date</th>\n",
       "      <th>im_alt</th>\n",
       "      <th>im_src</th>\n",
       "      <th>im_title</th>\n",
       "      <th>location</th>\n",
       "      <th>mileage</th>\n",
       "      <th>price</th>\n",
       "      <th>text</th>\n",
       "      <th>title</th>\n",
       "      <th>age</th>\n",
       "    </tr>\n",
       "  </thead>\n",
       "  <tbody>\n",
       "    <tr>\n",
       "      <th>0</th>\n",
       "      <td>2020</td>\n",
       "      <td>Vandaag</td>\n",
       "      <td>YAMAHA MT-07 ABS (bj 2020) ABS MT07, Motoren, ...</td>\n",
       "      <td>https://images.marktplaats.com/api/v1/listing-...</td>\n",
       "      <td>YAMAHA MT-07 ABS (bj 2020) ABS MT07, Motoren, ...</td>\n",
       "      <td>Vlijmen</td>\n",
       "      <td>9349</td>\n",
       "      <td>7200</td>\n",
       "      <td>Wij berekenen geen afleverkosten inruil is mog...</td>\n",
       "      <td>YAMAHA MT-07 ABS (bj 2020) ABS MT07</td>\n",
       "      <td>4</td>\n",
       "    </tr>\n",
       "    <tr>\n",
       "      <th>1</th>\n",
       "      <td>2014</td>\n",
       "      <td>9 feb. '24</td>\n",
       "      <td>Yamaha MT-07 2014, Motoren, Motoren | Yamaha, ...</td>\n",
       "      <td>https://images.marktplaats.com/api/v1/listing-...</td>\n",
       "      <td>Yamaha MT-07 2014, Motoren, Motoren | Yamaha, ...</td>\n",
       "      <td>Best</td>\n",
       "      <td>28480</td>\n",
       "      <td>5650</td>\n",
       "      <td>Yamaha mt 07 04-07-2014 kmstand 28480 prachtig...</td>\n",
       "      <td>Yamaha MT-07 2014</td>\n",
       "      <td>10</td>\n",
       "    </tr>\n",
       "    <tr>\n",
       "      <th>2</th>\n",
       "      <td>2019</td>\n",
       "      <td>Vandaag</td>\n",
       "      <td>YAMAHA MT 07 ABS (bj 2019) MT07 35KW A2 Geschi...</td>\n",
       "      <td>https://images.marktplaats.com/api/v1/listing-...</td>\n",
       "      <td>YAMAHA MT 07 ABS (bj 2019) MT07 35KW A2 Geschi...</td>\n",
       "      <td>'s-Gravenzande</td>\n",
       "      <td>17455</td>\n",
       "      <td>6945</td>\n",
       "      <td>De yamaha mt-07 is een naakte straatmotorfiets...</td>\n",
       "      <td>YAMAHA MT 07 ABS (bj 2019) MT07 35KW A2 Geschikt</td>\n",
       "      <td>5</td>\n",
       "    </tr>\n",
       "    <tr>\n",
       "      <th>3</th>\n",
       "      <td>2021</td>\n",
       "      <td>27 jan. '24</td>\n",
       "      <td>Yamaha MT-07 35kW/A2, Motoren, Motoren | Yamah...</td>\n",
       "      <td>https://images.marktplaats.com/api/v1/listing-...</td>\n",
       "      <td>Yamaha MT-07 35kW/A2, Motoren, Motoren | Yamah...</td>\n",
       "      <td>Breda</td>\n",
       "      <td>22458</td>\n",
       "      <td>8000</td>\n",
       "      <td>Yamaha mt-07 35kw 2021 1e eigenaar 22.458 Km t...</td>\n",
       "      <td>Yamaha MT-07 35kW/A2</td>\n",
       "      <td>3</td>\n",
       "    </tr>\n",
       "    <tr>\n",
       "      <th>4</th>\n",
       "      <td>2017</td>\n",
       "      <td>8 feb. '24</td>\n",
       "      <td>YAMAHA MT-07 ABS, Motoren, Motoren | Yamaha, N...</td>\n",
       "      <td>https://images.marktplaats.com/api/v1/listing-...</td>\n",
       "      <td>YAMAHA MT-07 ABS, Motoren, Motoren | Yamaha, N...</td>\n",
       "      <td>Lekkerkerk</td>\n",
       "      <td>37000</td>\n",
       "      <td>5800</td>\n",
       "      <td>Yamaha mt-07 abs 37.000Km gebruikt voor woon-/...</td>\n",
       "      <td>YAMAHA MT-07 ABS</td>\n",
       "      <td>7</td>\n",
       "    </tr>\n",
       "  </tbody>\n",
       "</table>\n",
       "</div>"
      ],
      "text/plain": [
       "   build_year         date                                             im_alt  \\\n",
       "0        2020      Vandaag  YAMAHA MT-07 ABS (bj 2020) ABS MT07, Motoren, ...   \n",
       "1        2014   9 feb. '24  Yamaha MT-07 2014, Motoren, Motoren | Yamaha, ...   \n",
       "2        2019      Vandaag  YAMAHA MT 07 ABS (bj 2019) MT07 35KW A2 Geschi...   \n",
       "3        2021  27 jan. '24  Yamaha MT-07 35kW/A2, Motoren, Motoren | Yamah...   \n",
       "4        2017   8 feb. '24  YAMAHA MT-07 ABS, Motoren, Motoren | Yamaha, N...   \n",
       "\n",
       "                                              im_src  \\\n",
       "0  https://images.marktplaats.com/api/v1/listing-...   \n",
       "1  https://images.marktplaats.com/api/v1/listing-...   \n",
       "2  https://images.marktplaats.com/api/v1/listing-...   \n",
       "3  https://images.marktplaats.com/api/v1/listing-...   \n",
       "4  https://images.marktplaats.com/api/v1/listing-...   \n",
       "\n",
       "                                            im_title        location  mileage  \\\n",
       "0  YAMAHA MT-07 ABS (bj 2020) ABS MT07, Motoren, ...         Vlijmen     9349   \n",
       "1  Yamaha MT-07 2014, Motoren, Motoren | Yamaha, ...            Best    28480   \n",
       "2  YAMAHA MT 07 ABS (bj 2019) MT07 35KW A2 Geschi...  's-Gravenzande    17455   \n",
       "3  Yamaha MT-07 35kW/A2, Motoren, Motoren | Yamah...           Breda    22458   \n",
       "4  YAMAHA MT-07 ABS, Motoren, Motoren | Yamaha, N...      Lekkerkerk    37000   \n",
       "\n",
       "   price                                               text  \\\n",
       "0   7200  Wij berekenen geen afleverkosten inruil is mog...   \n",
       "1   5650  Yamaha mt 07 04-07-2014 kmstand 28480 prachtig...   \n",
       "2   6945  De yamaha mt-07 is een naakte straatmotorfiets...   \n",
       "3   8000  Yamaha mt-07 35kw 2021 1e eigenaar 22.458 Km t...   \n",
       "4   5800  Yamaha mt-07 abs 37.000Km gebruikt voor woon-/...   \n",
       "\n",
       "                                              title  age  \n",
       "0               YAMAHA MT-07 ABS (bj 2020) ABS MT07    4  \n",
       "1                                 Yamaha MT-07 2014   10  \n",
       "2  YAMAHA MT 07 ABS (bj 2019) MT07 35KW A2 Geschikt    5  \n",
       "3                              Yamaha MT-07 35kW/A2    3  \n",
       "4                                  YAMAHA MT-07 ABS    7  "
      ]
     },
     "execution_count": 104,
     "metadata": {},
     "output_type": "execute_result"
    }
   ],
   "source": [
    "df.head()"
   ]
  },
  {
   "cell_type": "code",
   "execution_count": 105,
   "id": "45c96ac5-4ea4-45f2-84d2-00d8763ccc38",
   "metadata": {},
   "outputs": [
    {
     "data": {
      "text/html": [
       "<div>\n",
       "<style scoped>\n",
       "    .dataframe tbody tr th:only-of-type {\n",
       "        vertical-align: middle;\n",
       "    }\n",
       "\n",
       "    .dataframe tbody tr th {\n",
       "        vertical-align: top;\n",
       "    }\n",
       "\n",
       "    .dataframe thead th {\n",
       "        text-align: right;\n",
       "    }\n",
       "</style>\n",
       "<table border=\"1\" class=\"dataframe\">\n",
       "  <thead>\n",
       "    <tr style=\"text-align: right;\">\n",
       "      <th></th>\n",
       "      <th>build_year</th>\n",
       "      <th>date</th>\n",
       "      <th>im_alt</th>\n",
       "      <th>im_src</th>\n",
       "      <th>im_title</th>\n",
       "      <th>location</th>\n",
       "      <th>mileage</th>\n",
       "      <th>price</th>\n",
       "      <th>text</th>\n",
       "      <th>title</th>\n",
       "      <th>age</th>\n",
       "    </tr>\n",
       "  </thead>\n",
       "  <tbody>\n",
       "    <tr>\n",
       "      <th>0</th>\n",
       "      <td>2020</td>\n",
       "      <td>Vandaag</td>\n",
       "      <td>YAMAHA MT-07 ABS (bj 2020) ABS MT07, Motoren, ...</td>\n",
       "      <td>https://images.marktplaats.com/api/v1/listing-...</td>\n",
       "      <td>YAMAHA MT-07 ABS (bj 2020) ABS MT07, Motoren, ...</td>\n",
       "      <td>Vlijmen</td>\n",
       "      <td>9349</td>\n",
       "      <td>7200</td>\n",
       "      <td>Wij berekenen geen afleverkosten inruil is mog...</td>\n",
       "      <td>YAMAHA MT-07 ABS (bj 2020) ABS MT07</td>\n",
       "      <td>4</td>\n",
       "    </tr>\n",
       "    <tr>\n",
       "      <th>1</th>\n",
       "      <td>2014</td>\n",
       "      <td>9 feb. '24</td>\n",
       "      <td>Yamaha MT-07 2014, Motoren, Motoren | Yamaha, ...</td>\n",
       "      <td>https://images.marktplaats.com/api/v1/listing-...</td>\n",
       "      <td>Yamaha MT-07 2014, Motoren, Motoren | Yamaha, ...</td>\n",
       "      <td>Best</td>\n",
       "      <td>28480</td>\n",
       "      <td>5650</td>\n",
       "      <td>Yamaha mt 07 04-07-2014 kmstand 28480 prachtig...</td>\n",
       "      <td>Yamaha MT-07 2014</td>\n",
       "      <td>10</td>\n",
       "    </tr>\n",
       "    <tr>\n",
       "      <th>2</th>\n",
       "      <td>2019</td>\n",
       "      <td>Vandaag</td>\n",
       "      <td>YAMAHA MT 07 ABS (bj 2019) MT07 35KW A2 Geschi...</td>\n",
       "      <td>https://images.marktplaats.com/api/v1/listing-...</td>\n",
       "      <td>YAMAHA MT 07 ABS (bj 2019) MT07 35KW A2 Geschi...</td>\n",
       "      <td>'s-Gravenzande</td>\n",
       "      <td>17455</td>\n",
       "      <td>6945</td>\n",
       "      <td>De yamaha mt-07 is een naakte straatmotorfiets...</td>\n",
       "      <td>YAMAHA MT 07 ABS (bj 2019) MT07 35KW A2 Geschikt</td>\n",
       "      <td>5</td>\n",
       "    </tr>\n",
       "    <tr>\n",
       "      <th>3</th>\n",
       "      <td>2021</td>\n",
       "      <td>27 jan. '24</td>\n",
       "      <td>Yamaha MT-07 35kW/A2, Motoren, Motoren | Yamah...</td>\n",
       "      <td>https://images.marktplaats.com/api/v1/listing-...</td>\n",
       "      <td>Yamaha MT-07 35kW/A2, Motoren, Motoren | Yamah...</td>\n",
       "      <td>Breda</td>\n",
       "      <td>22458</td>\n",
       "      <td>8000</td>\n",
       "      <td>Yamaha mt-07 35kw 2021 1e eigenaar 22.458 Km t...</td>\n",
       "      <td>Yamaha MT-07 35kW/A2</td>\n",
       "      <td>3</td>\n",
       "    </tr>\n",
       "    <tr>\n",
       "      <th>4</th>\n",
       "      <td>2017</td>\n",
       "      <td>8 feb. '24</td>\n",
       "      <td>YAMAHA MT-07 ABS, Motoren, Motoren | Yamaha, N...</td>\n",
       "      <td>https://images.marktplaats.com/api/v1/listing-...</td>\n",
       "      <td>YAMAHA MT-07 ABS, Motoren, Motoren | Yamaha, N...</td>\n",
       "      <td>Lekkerkerk</td>\n",
       "      <td>37000</td>\n",
       "      <td>5800</td>\n",
       "      <td>Yamaha mt-07 abs 37.000Km gebruikt voor woon-/...</td>\n",
       "      <td>YAMAHA MT-07 ABS</td>\n",
       "      <td>7</td>\n",
       "    </tr>\n",
       "  </tbody>\n",
       "</table>\n",
       "</div>"
      ],
      "text/plain": [
       "   build_year         date                                             im_alt  \\\n",
       "0        2020      Vandaag  YAMAHA MT-07 ABS (bj 2020) ABS MT07, Motoren, ...   \n",
       "1        2014   9 feb. '24  Yamaha MT-07 2014, Motoren, Motoren | Yamaha, ...   \n",
       "2        2019      Vandaag  YAMAHA MT 07 ABS (bj 2019) MT07 35KW A2 Geschi...   \n",
       "3        2021  27 jan. '24  Yamaha MT-07 35kW/A2, Motoren, Motoren | Yamah...   \n",
       "4        2017   8 feb. '24  YAMAHA MT-07 ABS, Motoren, Motoren | Yamaha, N...   \n",
       "\n",
       "                                              im_src  \\\n",
       "0  https://images.marktplaats.com/api/v1/listing-...   \n",
       "1  https://images.marktplaats.com/api/v1/listing-...   \n",
       "2  https://images.marktplaats.com/api/v1/listing-...   \n",
       "3  https://images.marktplaats.com/api/v1/listing-...   \n",
       "4  https://images.marktplaats.com/api/v1/listing-...   \n",
       "\n",
       "                                            im_title        location  mileage  \\\n",
       "0  YAMAHA MT-07 ABS (bj 2020) ABS MT07, Motoren, ...         Vlijmen     9349   \n",
       "1  Yamaha MT-07 2014, Motoren, Motoren | Yamaha, ...            Best    28480   \n",
       "2  YAMAHA MT 07 ABS (bj 2019) MT07 35KW A2 Geschi...  's-Gravenzande    17455   \n",
       "3  Yamaha MT-07 35kW/A2, Motoren, Motoren | Yamah...           Breda    22458   \n",
       "4  YAMAHA MT-07 ABS, Motoren, Motoren | Yamaha, N...      Lekkerkerk    37000   \n",
       "\n",
       "   price                                               text  \\\n",
       "0   7200  Wij berekenen geen afleverkosten inruil is mog...   \n",
       "1   5650  Yamaha mt 07 04-07-2014 kmstand 28480 prachtig...   \n",
       "2   6945  De yamaha mt-07 is een naakte straatmotorfiets...   \n",
       "3   8000  Yamaha mt-07 35kw 2021 1e eigenaar 22.458 Km t...   \n",
       "4   5800  Yamaha mt-07 abs 37.000Km gebruikt voor woon-/...   \n",
       "\n",
       "                                              title  age  \n",
       "0               YAMAHA MT-07 ABS (bj 2020) ABS MT07    4  \n",
       "1                                 Yamaha MT-07 2014   10  \n",
       "2  YAMAHA MT 07 ABS (bj 2019) MT07 35KW A2 Geschikt    5  \n",
       "3                              Yamaha MT-07 35kW/A2    3  \n",
       "4                                  YAMAHA MT-07 ABS    7  "
      ]
     },
     "execution_count": 105,
     "metadata": {},
     "output_type": "execute_result"
    }
   ],
   "source": [
    "df.head()"
   ]
  },
  {
   "cell_type": "code",
   "execution_count": 106,
   "id": "8e3564f1-77e5-4e10-8ec7-727513b4e648",
   "metadata": {},
   "outputs": [
    {
     "data": {
      "text/plain": [
       "<matplotlib.collections.PathCollection at 0x7f07c9ecbca0>"
      ]
     },
     "execution_count": 106,
     "metadata": {},
     "output_type": "execute_result"
    },
    {
     "data": {
      "image/png": "[encoded data removed]",
      "text/plain": [
       "<Figure size 640x480 with 1 Axes>"
      ]
     },
     "metadata": {},
     "output_type": "display_data"
    }
   ],
   "source": [
    "m_p = df['price'] != 0\n",
    "m_y = df['build_year'] != 0\n",
    "\n",
    "m = m_p & m_y\n",
    "\n",
    "plt.scatter(df['age'][m].values, df['price'][m].values)"
   ]
  },
  {
   "cell_type": "code",
   "execution_count": 107,
   "id": "3a694f0f-fa13-49db-b117-a1a306239ef1",
   "metadata": {},
   "outputs": [
    {
     "data": {
      "text/plain": [
       "<matplotlib.collections.PathCollection at 0x7f07c9d69750>"
      ]
     },
     "execution_count": 107,
     "metadata": {},
     "output_type": "execute_result"
    },
    {
     "data": {
      "image/png": "[encoded data removed]",
      "text/plain": [
       "<Figure size 640x480 with 1 Axes>"
      ]
     },
     "metadata": {},
     "output_type": "display_data"
    }
   ],
   "source": [
    "\n",
    "plt.scatter(df['mileage'][m].values, df['price'][m].values)"
   ]
  },
  {
   "cell_type": "code",
   "execution_count": 27,
   "id": "232ac0ea-d29c-43a1-b6d5-26bc5688e088",
   "metadata": {},
   "outputs": [],
   "source": []
  },
  {
   "cell_type": "code",
   "execution_count": 32,
   "id": "fee8c922-30d9-4d7e-a80a-778843126bf1",
   "metadata": {},
   "outputs": [],
   "source": []
  },
  {
   "cell_type": "code",
   "execution_count": null,
   "id": "eec58898-fa00-462b-97d6-ea02f7b88455",
   "metadata": {},
   "outputs": [],
   "source": []
  }
 ],
 "metadata": {
  "kernelspec": {
   "display_name": "Python 3 (ipykernel)",
   "language": "python",
   "name": "python3"
  },
  "language_info": {
   "codemirror_mode": {
    "name": "ipython",
    "version": 3
   },
   "file_extension": ".py",
   "mimetype": "text/x-python",
   "name": "python",
   "nbconvert_exporter": "python",
   "pygments_lexer": "ipython3",
   "version": "3.10.12"
  }
 },
 "nbformat": 4,
 "nbformat_minor": 5
}
