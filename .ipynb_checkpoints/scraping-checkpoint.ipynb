{
 "cells": [
  {
   "cell_type": "code",
   "execution_count": 1,
   "id": "faa41168",
   "metadata": {},
   "outputs": [],
   "source": [
    "import time \n",
    "import pandas as pd\n",
    "import re\n",
    "\n",
    "from datetime import date, timedelta\n",
    "from selenium import webdriver \n",
    "from selenium.webdriver import Chrome \n",
    "from selenium.webdriver.common.by import By \n",
    "\n",
    "from bs4 import BeautifulSoup as bs\n",
    "\n",
    "from scraping import *"
   ]
  },
  {
   "cell_type": "code",
   "execution_count": 2,
   "id": "c995d12d-702c-4b71-9c8f-f8057deb6728",
   "metadata": {},
   "outputs": [],
   "source": [
    "# Define the Chrome webdriver options\n",
    "options = webdriver.ChromeOptions() \n",
    "options.add_argument('--headless')"
   ]
  },
  {
   "cell_type": "code",
   "execution_count": 3,
   "id": "98ee2e36-d9c8-4235-bd2f-3747cdc6abcd",
   "metadata": {},
   "outputs": [],
   "source": [
    "# By default, Selenium waits for all resources to download before taking actions.\n",
    "# However, we don't need it as the page is populated with dynamically generated JavaScript code.\n",
    "options.page_load_strategy = \"none\"\n",
    "options.add_argument(\"--disable-dev-shm-usage\")\n",
    "options.add_argument(\"--no-sandbox\")\n",
    "#options.add_argument(\"--headless\")  # Old headless Chrome\n",
    "# OR:\n",
    "options.add_argument(\"--headless=new\")  # New headless Chrome"
   ]
  },
  {
   "cell_type": "code",
   "execution_count": 4,
   "id": "15ead977-06eb-4414-9478-9bd9bc83eb80",
   "metadata": {},
   "outputs": [],
   "source": [
    "# Pass the defined options objects to initialize the web driver \n",
    "driver = Chrome(options=options)"
   ]
  },
  {
   "cell_type": "code",
   "execution_count": 5,
   "id": "ecae8ac7-8e0d-44ad-b47b-80c6e6d90a64",
   "metadata": {},
   "outputs": [],
   "source": [
    "# Set an implicit wait of 5 seconds to allow time for elements to appear before throwing an exception\n",
    "driver.implicitly_wait(3)"
   ]
  },
  {
   "cell_type": "code",
   "execution_count": 6,
   "id": "f6705875",
   "metadata": {},
   "outputs": [],
   "source": [
    "\n",
    "query = \"mt-07\"\n",
    "urls = []\n",
    "N = 9\n",
    "\n",
    "for i in range(N):\n",
    "    url = \"https://www.marktplaats.nl/l/motoren/motoren-yamaha/p/{:}/#q:{:}|searchInTitleAndDescription:true\".format(i, query)\n",
    "    urls.append(url)\n",
    "    "
   ]
  },
  {
   "cell_type": "code",
   "execution_count": 8,
   "id": "8cfcd76b-f929-4f96-910d-7e9b00752fb2",
   "metadata": {},
   "outputs": [
    {
     "name": "stdout",
     "output_type": "stream",
     "text": [
      "0 https://www.marktplaats.nl/l/motoren/motoren-yamaha/p/0/#q:mt-07|searchInTitleAndDescription:true\n",
      "1 https://www.marktplaats.nl/l/motoren/motoren-yamaha/p/1/#q:mt-07|searchInTitleAndDescription:true\n",
      "2 https://www.marktplaats.nl/l/motoren/motoren-yamaha/p/2/#q:mt-07|searchInTitleAndDescription:true\n",
      "3 https://www.marktplaats.nl/l/motoren/motoren-yamaha/p/3/#q:mt-07|searchInTitleAndDescription:true\n",
      "4 https://www.marktplaats.nl/l/motoren/motoren-yamaha/p/4/#q:mt-07|searchInTitleAndDescription:true\n",
      "5 https://www.marktplaats.nl/l/motoren/motoren-yamaha/p/5/#q:mt-07|searchInTitleAndDescription:true\n",
      "6 https://www.marktplaats.nl/l/motoren/motoren-yamaha/p/6/#q:mt-07|searchInTitleAndDescription:true\n",
      "KeyError: 'title'\n",
      "7 https://www.marktplaats.nl/l/motoren/motoren-yamaha/p/7/#q:mt-07|searchInTitleAndDescription:true\n",
      "8 https://www.marktplaats.nl/l/motoren/motoren-yamaha/p/8/#q:mt-07|searchInTitleAndDescription:true\n"
     ]
    }
   ],
   "source": [
    "listings_per_page = {}\n",
    "\n",
    "for i, url in enumerate(urls):\n",
    "\n",
    "    print(i, url)\n",
    "    \n",
    "    driver.get(url) \n",
    "    time.sleep(5)\n",
    "    html = driver.page_source\n",
    "\n",
    "    more_listings = html_to_listings(html)\n",
    "\n",
    "    listings_per_page[i] = more_listings\n",
    "    "
   ]
  },
  {
   "cell_type": "code",
   "execution_count": 14,
   "id": "8c0dc258",
   "metadata": {},
   "outputs": [],
   "source": [
    "listings = []\n",
    "\n",
    "for page in listings_per_page:\n",
    "    listings += listings_per_page[page]\n",
    "    "
   ]
  },
  {
   "cell_type": "code",
   "execution_count": 15,
   "id": "1d47c438-72f8-4aed-bad8-5e51fbb37be6",
   "metadata": {},
   "outputs": [],
   "source": [
    "import os\n",
    "\n",
    "dirname = \"data\"\n",
    "\n",
    "if not os.path.exists(dirname):\n",
    "    os.mkdir(dirname)\n"
   ]
  },
  {
   "cell_type": "code",
   "execution_count": 16,
   "id": "f743d46c-a759-4106-a5c4-d022024de763",
   "metadata": {},
   "outputs": [],
   "source": [
    "df = pd.DataFrame.from_dict([l._to_dict() for l in listings])"
   ]
  },
  {
   "cell_type": "code",
   "execution_count": 20,
   "id": "c1b4dd12-b0fa-4fb4-9499-7b49f7455e34",
   "metadata": {},
   "outputs": [],
   "source": [
    "\n",
    "today = date.today()\n",
    "\n",
    "mfn = \"{:}_db.csv\".format(query)\n",
    "fn = \"{:}_{:}.csv\".format(query,today)\n",
    "fp = os.path.join(dirname, fn)\n",
    "mfp = os.path.join(dirname, mfn)"
   ]
  },
  {
   "cell_type": "code",
   "execution_count": 25,
   "id": "320c20cd-8ee5-41e2-bb97-49297280dfae",
   "metadata": {},
   "outputs": [],
   "source": [
    "df.to_csv(fp)"
   ]
  },
  {
   "cell_type": "code",
   "execution_count": 23,
   "id": "c2d1ebbd-8e0d-420a-833b-953fb98a6766",
   "metadata": {},
   "outputs": [],
   "source": [
    "mdf = pd.read_csv(mfp, index_col = 0)"
   ]
  },
  {
   "cell_type": "code",
   "execution_count": 38,
   "id": "d3e0f1a2-fd8b-4877-acbc-2a6df66ef901",
   "metadata": {},
   "outputs": [],
   "source": [
    "\n",
    "s1 = mdf['hash']\n",
    "s2 = df['hash']\n",
    "\n",
    "new_hashes = list(set(s2).difference(set(s1)))\n",
    "\n",
    "new_rows = df.query('hash in {:}'.format(new_hashes))\n"
   ]
  },
  {
   "cell_type": "code",
   "execution_count": 39,
   "id": "36aa31e1-207c-402d-ad67-ce77aeaf5563",
   "metadata": {},
   "outputs": [
    {
     "data": {
      "text/html": [
       "<div>\n",
       "<style scoped>\n",
       "    .dataframe tbody tr th:only-of-type {\n",
       "        vertical-align: middle;\n",
       "    }\n",
       "\n",
       "    .dataframe tbody tr th {\n",
       "        vertical-align: top;\n",
       "    }\n",
       "\n",
       "    .dataframe thead th {\n",
       "        text-align: right;\n",
       "    }\n",
       "</style>\n",
       "<table border=\"1\" class=\"dataframe\">\n",
       "  <thead>\n",
       "    <tr style=\"text-align: right;\">\n",
       "      <th></th>\n",
       "      <th>build_year</th>\n",
       "      <th>date</th>\n",
       "      <th>hash</th>\n",
       "      <th>im_alt</th>\n",
       "      <th>im_src</th>\n",
       "      <th>im_title</th>\n",
       "      <th>location</th>\n",
       "      <th>mileage</th>\n",
       "      <th>price</th>\n",
       "      <th>scrape_date</th>\n",
       "      <th>text</th>\n",
       "      <th>title</th>\n",
       "    </tr>\n",
       "  </thead>\n",
       "  <tbody>\n",
       "  </tbody>\n",
       "</table>\n",
       "</div>"
      ],
      "text/plain": [
       "Empty DataFrame\n",
       "Columns: [build_year, date, hash, im_alt, im_src, im_title, location, mileage, price, scrape_date, text, title]\n",
       "Index: []"
      ]
     },
     "execution_count": 39,
     "metadata": {},
     "output_type": "execute_result"
    }
   ],
   "source": [
    "new_rows"
   ]
  },
  {
   "cell_type": "code",
   "execution_count": 37,
   "id": "61e89b4c-1d6e-440c-a3ff-da399d967cda",
   "metadata": {},
   "outputs": [],
   "source": []
  },
  {
   "cell_type": "code",
   "execution_count": null,
   "id": "7c20d5d0-5394-4e1f-84f0-205b1e06b0d2",
   "metadata": {},
   "outputs": [],
   "source": []
  }
 ],
 "metadata": {
  "kernelspec": {
   "display_name": "Python 3 (ipykernel)",
   "language": "python",
   "name": "python3"
  },
  "language_info": {
   "codemirror_mode": {
    "name": "ipython",
    "version": 3
   },
   "file_extension": ".py",
   "mimetype": "text/x-python",
   "name": "python",
   "nbconvert_exporter": "python",
   "pygments_lexer": "ipython3",
   "version": "3.10.12"
  }
 },
 "nbformat": 4,
 "nbformat_minor": 5
}
